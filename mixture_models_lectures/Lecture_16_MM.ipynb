{
 "cells": [
  {
   "cell_type": "code",
   "execution_count": 1,
   "id": "ac76f3b9-46bb-4f97-bdf3-2853113a0b4a",
   "metadata": {},
   "outputs": [],
   "source": [
    "import numpy as np"
   ]
  },
  {
   "cell_type": "code",
   "execution_count": 12,
   "id": "e1afabc5-db4d-4990-a1ef-b81e44b567c6",
   "metadata": {},
   "outputs": [],
   "source": [
    "def norm_dist(x, mu, sigma_2):\n",
    "    P = 1/(np.sqrt(2*np.pi*sigma_2)) * np.exp(-1/(2*sigma_2) * (x-mu)**2)\n",
    "    return P\n",
    "    \n",
    "def post_prob(x, p, mu, sigma_2, i, j):\n",
    "    num_p_j_i = p[j]*norm_dist(x[i], mu[j], sigma_2[j])\n",
    "    den = p[0]*norm_dist(x[i], mu[0], sigma_2[0]) + p[1]*norm_dist(x[i], mu[1], sigma_2[1])\n",
    "    post_prob = num_p_j_i/den\n",
    "    return post_prob"
   ]
  },
  {
   "cell_type": "code",
   "execution_count": 13,
   "id": "ef908760-70fd-4f77-b5c6-c313eccbf618",
   "metadata": {},
   "outputs": [],
   "source": [
    "p = [0.5, 0.5]\n",
    "mu = [-3, 2]\n",
    "sigma_2 = [4, 4]\n",
    "x = [0.2, -0.9, -1, 1.2, 1.8]\n"
   ]
  },
  {
   "cell_type": "code",
   "execution_count": 16,
   "id": "6ff6c8f4-c69a-4c39-8e8e-7d2bd6422162",
   "metadata": {},
   "outputs": [
    {
     "data": {
      "text/plain": [
       "np.float64(0.29421497216298875)"
      ]
     },
     "execution_count": 16,
     "metadata": {},
     "output_type": "execute_result"
    }
   ],
   "source": [
    "# P(1|1)\n",
    "post_prob(x, p, mu, sigma_2, 0, 0)"
   ]
  },
  {
   "cell_type": "code",
   "execution_count": 17,
   "id": "b0cf13b8-d768-4dba-9659-ebad8c89b437",
   "metadata": {},
   "outputs": [
    {
     "data": {
      "text/plain": [
       "np.float64(0.6224593312018546)"
      ]
     },
     "execution_count": 17,
     "metadata": {},
     "output_type": "execute_result"
    }
   ],
   "source": [
    "# P(1|2)\n",
    "post_prob(x, p, mu, sigma_2, 1, 0)"
   ]
  },
  {
   "cell_type": "code",
   "execution_count": 18,
   "id": "4d7e8bbb-c6da-45f1-836e-519dd1294cdb",
   "metadata": {},
   "outputs": [
    {
     "data": {
      "text/plain": [
       "np.float64(0.6513548646660543)"
      ]
     },
     "execution_count": 18,
     "metadata": {},
     "output_type": "execute_result"
    }
   ],
   "source": [
    "# P(1|3)\n",
    "post_prob(x, p, mu, sigma_2, 2, 0)"
   ]
  },
  {
   "cell_type": "code",
   "execution_count": 19,
   "id": "9baaf7ea-741a-4052-ae98-659e4d93a735",
   "metadata": {},
   "outputs": [
    {
     "data": {
      "text/plain": [
       "np.float64(0.10669059394565118)"
      ]
     },
     "execution_count": 19,
     "metadata": {},
     "output_type": "execute_result"
    }
   ],
   "source": [
    "# P(1|4)\n",
    "post_prob(x, p, mu, sigma_2, 3, 0)"
   ]
  },
  {
   "cell_type": "code",
   "execution_count": 20,
   "id": "21ac3996-cfeb-43f5-9abc-f995e07a6adb",
   "metadata": {},
   "outputs": [
    {
     "data": {
      "text/plain": [
       "np.float64(0.053403329799824234)"
      ]
     },
     "execution_count": 20,
     "metadata": {},
     "output_type": "execute_result"
    }
   ],
   "source": [
    "# P(1|5)\n",
    "post_prob(x, p, mu, sigma_2, 4, 0)"
   ]
  },
  {
   "cell_type": "markdown",
   "id": "fb739eaa-e730-495e-afa1-99a8b0548b6b",
   "metadata": {},
   "source": [
    "## M-step \n",
    "### Effective cluster size\n",
    "\n",
    "First compute the “soft count” of points assigned to each cluster:\n",
    "\n",
    "\\begin{equation}\n",
    "N_j=\\sum_{i=1}^n \\gamma_{i, j}\n",
    "\\end{equation}\n",
    "\n",
    "This is like the “expected number of points” in cluster $j$"
   ]
  },
  {
   "cell_type": "code",
   "execution_count": 21,
   "id": "a4fdb852-b53d-4597-9f07-87d00d939211",
   "metadata": {},
   "outputs": [
    {
     "name": "stdout",
     "output_type": "stream",
     "text": [
      "effective cluster size: 1.7281230917763732\n"
     ]
    }
   ],
   "source": [
    "# For 1 cluster\n",
    "N_1 = 0\n",
    "for i in range(len(x)):\n",
    "    N_1 += post_prob(x, p, mu, sigma_2, i, 0)\n",
    "print(f\"effective cluster size: {N_1}\")"
   ]
  },
  {
   "cell_type": "markdown",
   "id": "5ac3afe3-0713-445a-9d84-f7dcd137dffa",
   "metadata": {},
   "source": [
    "### Update mixture weights\n",
    "\n",
    "\\begin{equation}\n",
    "P_j=\\frac{N_j}{n}\n",
    "\\end{equation}\n",
    "\n",
    "So each weight is proportional to the total responsibility mass assigned to that cluster."
   ]
  },
  {
   "cell_type": "code",
   "execution_count": 23,
   "id": "9c7eb831-111f-48d2-a1ee-fc046164bf29",
   "metadata": {},
   "outputs": [
    {
     "name": "stdout",
     "output_type": "stream",
     "text": [
      "New mixture weigth: 0.34562461835527464\n"
     ]
    }
   ],
   "source": [
    "P_1 = N_1/len(x)\n",
    "print(f\"New mixture weigth: {P_1}\")"
   ]
  },
  {
   "cell_type": "markdown",
   "id": "eb94560e-1426-4bf1-a2b1-697627fe857a",
   "metadata": {},
   "source": [
    "### Update means\n",
    "\n",
    "\\begin{equation}\n",
    "\\mu_j^{\\text {new }}=\\frac{1}{N_j} \\sum_{i=1}^n \\gamma_{i, j} x_i .\n",
    "\\end{equation}\n",
    "\n",
    "This is the weighted average of the data with weights = responsibilities."
   ]
  },
  {
   "cell_type": "code",
   "execution_count": 24,
   "id": "08506a99-f022-4dc3-a80a-616bbd0e34ee",
   "metadata": {},
   "outputs": [
    {
     "name": "stdout",
     "output_type": "stream",
     "text": [
      "New mean: -0.5373289474340418\n"
     ]
    }
   ],
   "source": [
    "sum_mu = 0\n",
    "for i in range(len(x)):\n",
    "    sum_mu += post_prob(x, p, mu, sigma_2, i, 0) * x[i]\n",
    "mu_j_new = sum_mu/N_1 \n",
    "print(f\"New mean: {mu_j_new}\")"
   ]
  },
  {
   "cell_type": "markdown",
   "id": "788af94e-714d-4358-a517-f198c70cf135",
   "metadata": {},
   "source": [
    "### Update covariances\n",
    "\\begin{equation}\n",
    "\\Sigma_k^{\\text {new }}=\\frac{1}{N_k} \\sum_{i=1}^n \\gamma_{i, k}\\left(x_i-\\mu_k^{\\text {new }}\\right)\\left(x_i-\\mu_k^{\\text {new }}\\right)^T .\n",
    "\\end{equation}"
   ]
  },
  {
   "cell_type": "code",
   "execution_count": 25,
   "id": "9e142d9b-599c-4472-971f-9bc0d8508c31",
   "metadata": {},
   "outputs": [
    {
     "name": "stdout",
     "output_type": "stream",
     "text": [
      "New variance: 0.5757859076870627\n"
     ]
    }
   ],
   "source": [
    "sum_sigma = 0\n",
    "for i in range(len(x)):\n",
    "    sum_sigma += post_prob(x, p, mu, sigma_2, i, 0) * (x[i] - mu_j_new)**2\n",
    "sigma_2_j_new = sum_sigma/N_1 \n",
    "print(f\"New variance: {sigma_2_j_new}\")"
   ]
  },
  {
   "cell_type": "code",
   "execution_count": null,
   "id": "b67a31bc-be05-4260-b97c-80582b4ad7e1",
   "metadata": {},
   "outputs": [],
   "source": [
    "    "
   ]
  }
 ],
 "metadata": {
  "kernelspec": {
   "display_name": "Python 3 (ipykernel)",
   "language": "python",
   "name": "python3"
  },
  "language_info": {
   "codemirror_mode": {
    "name": "ipython",
    "version": 3
   },
   "file_extension": ".py",
   "mimetype": "text/x-python",
   "name": "python",
   "nbconvert_exporter": "python",
   "pygments_lexer": "ipython3",
   "version": "3.13.5"
  }
 },
 "nbformat": 4,
 "nbformat_minor": 5
}
