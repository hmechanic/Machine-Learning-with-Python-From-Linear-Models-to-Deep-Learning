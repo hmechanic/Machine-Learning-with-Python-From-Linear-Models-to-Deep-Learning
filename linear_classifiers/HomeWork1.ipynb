{
 "cells": [
  {
   "cell_type": "markdown",
   "id": "d405e4e9b5c420e4",
   "metadata": {},
   "source": [
    "# Homework 1\n",
    "\n"
   ]
  },
  {
   "cell_type": "code",
   "execution_count": 1,
   "id": "1cbe7bfd5dec7311",
   "metadata": {
    "ExecuteTime": {
     "end_time": "2025-02-21T19:57:07.842101Z",
     "start_time": "2025-02-21T19:57:07.839413Z"
    }
   },
   "outputs": [],
   "source": [
    "import numpy as np\n"
   ]
  },
  {
   "cell_type": "markdown",
   "id": "156f0615-9e98-47da-b9ba-28383626e497",
   "metadata": {},
   "source": [
    "# Perceptron mistakes\n",
    "\n",
    "## perceptron algorithm through the origin \n"
   ]
  },
  {
   "cell_type": "code",
   "execution_count": 6,
   "id": "f133e224fd369d64",
   "metadata": {
    "ExecuteTime": {
     "end_time": "2025-02-21T21:02:24.426523Z",
     "start_time": "2025-02-21T21:02:24.423642Z"
    }
   },
   "outputs": [],
   "source": [
    "x1 = np.array([-1, -1])\n",
    "x2 = np.array([1, 0])\n",
    "x3 = np.array([-1, 1.5])\n",
    "\n",
    "x_1 = [x1, x2, x3]\n",
    "x_2 = [x2, x1, x3]\n",
    "\n",
    "\n",
    "y1 = 1\n",
    "y2 = -1\n",
    "y3 = 1\n",
    "\n",
    "y_1 = [y1, y2, y3]\n",
    "y_2 = [y2, y1, y3]"
   ]
  },
  {
   "cell_type": "markdown",
   "id": "73f14d05-a761-4003-a1a8-857b334280bc",
   "metadata": {},
   "source": [
    "How many mistakes does the algorithm make until convergence if the algorithm starts with data point $X^{(1)}$ ?\n",
    "\n",
    "How many mistakes does the algorithm make if it starts with data point $X^{(2)}$ ?"
   ]
  },
  {
   "cell_type": "code",
   "execution_count": 10,
   "id": "50e455e9d2bfdc8b",
   "metadata": {
    "ExecuteTime": {
     "end_time": "2025-02-21T21:03:01.378965Z",
     "start_time": "2025-02-21T21:03:01.375641Z"
    }
   },
   "outputs": [],
   "source": [
    "def find_theta(x, y, T):\n",
    "    theta = [np.zeros(len(x[0]))]\n",
    "    for t in range(T):\n",
    "        theta_prev_len = len(theta)\n",
    "        for i in range(len(x)):\n",
    "            z = y[i]*np.dot(theta[-1], x[i])\n",
    "            if z <= 0:\n",
    "                theta_i = theta[-1] + y[i]*x[i]\n",
    "                theta.append(theta_i)\n",
    "                print(\"iteration i=\",i,\", theta=\",theta_i)\n",
    "        if (len(theta) == theta_prev_len) and t>0:\n",
    "            print(\"iteration needed T=\",t-1,\", theta=\",theta[1:])\n",
    "            print(\"Mistakes: \", len(theta)-1)\n",
    "            return theta\n"
   ]
  },
  {
   "cell_type": "code",
   "execution_count": 12,
   "id": "6ec863267b600b55",
   "metadata": {
    "ExecuteTime": {
     "end_time": "2025-02-21T21:03:03.197273Z",
     "start_time": "2025-02-21T21:03:03.191744Z"
    }
   },
   "outputs": [
    {
     "name": "stdout",
     "output_type": "stream",
     "text": [
      "\n",
      " RESPONSE 1.a \n",
      "\n",
      "iteration i= 0 , theta= [-1. -1.]\n",
      "iteration i= 2 , theta= [-2.   0.5]\n",
      "iteration needed T= 0 , theta= [array([-1., -1.]), array([-2. ,  0.5])]\n",
      "Mistakes:  2\n",
      "\n",
      " ---------------- \n",
      "\n",
      "iteration i= 0 , theta= [-1.  0.]\n",
      "iteration needed T= 0 , theta= [array([-1.,  0.])]\n",
      "Mistakes:  1\n"
     ]
    },
    {
     "data": {
      "text/plain": [
       "[array([0., 0.]), array([-1.,  0.])]"
      ]
     },
     "execution_count": 12,
     "metadata": {},
     "output_type": "execute_result"
    }
   ],
   "source": [
    "print(\"\\n RESPONSE 1.a \\n\")\n",
    "find_theta(x_1, y_1, 10)\n",
    "print(\"\\n ---------------- \\n\")\n",
    "find_theta(x_2, y_2, 10)"
   ]
  },
  {
   "cell_type": "markdown",
   "id": "e4fea952-088b-4a77-8ec9-c727cff4a525",
   "metadata": {},
   "source": [
    "### 1b. \n",
    "In part (a), what are the factors that affect the number of mistakes made by the algorithm?\n",
    "\n",
    "RTA//\n",
    "Just the iteration order"
   ]
  },
  {
   "cell_type": "markdown",
   "id": "8429ed94-72ba-4387-9d50-fc2025d181ad",
   "metadata": {},
   "source": [
    "### 1.c\n",
    "Now assume that  $X^{(3)} = [-1, 10]$. How many mistakes does the algorithm make until convergence if cycling starts with data point $X^{(1)}$?"
   ]
  },
  {
   "cell_type": "code",
   "execution_count": 18,
   "id": "151152d3d71be2c0",
   "metadata": {
    "ExecuteTime": {
     "end_time": "2025-02-21T21:03:07.793338Z",
     "start_time": "2025-02-21T21:03:07.790672Z"
    }
   },
   "outputs": [],
   "source": [
    "x1 = np.array([-1, -1])\n",
    "x2 = np.array([1, 0])\n",
    "x3 = np.array([-1, 10])\n",
    "\n",
    "x_1 = [x1, x2, x3]\n",
    "x_2 = [x2, x1, x3]\n",
    "\n",
    "\n",
    "y1 = 1\n",
    "y2 = -1\n",
    "y3 = 1\n",
    "\n",
    "y_1 = [y1, y2, y3]\n",
    "y_2 = [y2, y1, y3]"
   ]
  },
  {
   "cell_type": "code",
   "execution_count": 19,
   "id": "4de45197e2d07b4d",
   "metadata": {
    "ExecuteTime": {
     "end_time": "2025-02-21T21:03:52.153106Z",
     "start_time": "2025-02-21T21:03:52.148507Z"
    }
   },
   "outputs": [
    {
     "name": "stdout",
     "output_type": "stream",
     "text": [
      "\n",
      " RESPONSE 1.c \n",
      "\n",
      "iteration i= 0 , theta= [-1. -1.]\n",
      "iteration i= 2 , theta= [-2.  9.]\n",
      "iteration i= 0 , theta= [-3.  8.]\n",
      "iteration i= 0 , theta= [-4.  7.]\n",
      "iteration i= 0 , theta= [-5.  6.]\n",
      "iteration i= 0 , theta= [-6.  5.]\n",
      "iteration needed T= 4 , theta= [array([-1., -1.]), array([-2.,  9.]), array([-3.,  8.]), array([-4.,  7.]), array([-5.,  6.]), array([-6.,  5.])]\n",
      "Mistakes:  6\n",
      "\n",
      " ---------------- \n",
      "\n",
      "iteration i= 0 , theta= [-1.  0.]\n",
      "iteration needed T= 0 , theta= [array([-1.,  0.])]\n",
      "Mistakes:  1\n"
     ]
    },
    {
     "data": {
      "text/plain": [
       "[array([0., 0.]), array([-1.,  0.])]"
      ]
     },
     "execution_count": 19,
     "metadata": {},
     "output_type": "execute_result"
    }
   ],
   "source": [
    "print(\"\\n RESPONSE 1.c \\n\")\n",
    "find_theta(x_1, y_1, 10)\n",
    "print(\"\\n ---------------- \\n\")\n",
    "find_theta(x_2, y_2, 10)"
   ]
  },
  {
   "cell_type": "markdown",
   "id": "926acc40-d451-4b4f-a345-d31e2103935c",
   "metadata": {},
   "source": [
    "### 1d.\n",
    "For a fixed iteration order, what are the factors that affect the number of mistakes made by the algorithm between part (a) and part (c)?\n",
    "\n",
    "RTA//\n",
    "Maximum norm of data points"
   ]
  },
  {
   "attachments": {
    "1bf06493-14fc-4839-877e-41ca312f0758.png": {
     "image/png": "[encoded data removed]"
    }
   },
   "cell_type": "markdown",
   "id": "0acde25e-dd70-4976-adca-542da03225e9",
   "metadata": {},
   "source": [
    "### 1e.Novikoff\n",
    "![image.png](attachment:1bf06493-14fc-4839-877e-41ca312f0758.png)\n",
    "\n",
    "Then the number $\\kappa$ of updates made by the perceptron algorithm is bounded by $\\frac{R^2}{\\gamma^2}$.\n",
    "\n",
    "what are the factors that constitute the bound on the number of mistakes made by the algorithm?\n",
    "\n",
    "RTA//\n",
    "- Maximum margin between positive and negative data points\n",
    "- Maximum norm of data points"
   ]
  },
  {
   "cell_type": "markdown",
   "id": "7c1dd191d5acf793",
   "metadata": {},
   "source": [
    "# Perceptron Performance"
   ]
  },
  {
   "cell_type": "code",
   "execution_count": 97,
   "id": "60251e5c00e26b81",
   "metadata": {
    "ExecuteTime": {
     "end_time": "2025-02-21T21:57:08.738046Z",
     "start_time": "2025-02-21T21:57:08.734972Z"
    }
   },
   "outputs": [],
   "source": [
    "def find_theta_thetha0(x, y, T):\n",
    "    theta = [np.zeros(len(x[0]))]\n",
    "    theta0 = [0]\n",
    "    for t in range(T):\n",
    "        theta_prev_len = len(theta)\n",
    "        for i in range(len(x)):\n",
    "            z = y[i]*(np.dot(theta[-1], x[i]) + theta0[-1])\n",
    "            if z <= 0:\n",
    "                theta_i = theta[-1] + y[i]*x[i]\n",
    "                theta0_i = theta0[-1] + y[i]\n",
    "                theta.append(theta_i)\n",
    "                theta0.append(theta0_i)\n",
    "                print(\"iteration i=\",i,\", theta=\",theta_i, \", theta0=\",theta0_i)\n",
    "        if T == 1:\n",
    "            print(\"iteration needed T=\",t-1,\", theta=\",theta, \", theta0=\",theta0)\n",
    "            print(\"Mistakes: \", len(theta)-1)\n",
    "            return theta, theta0\n",
    "\n",
    "        if (len(theta) == theta_prev_len) and t>0:\n",
    "            print(\"iteration needed T=\",t-1,\", theta=\",theta, \", theta0=\",theta0)\n",
    "            print(\"Mistakes: \", len(theta)-1)\n",
    "            return theta, theta0\n"
   ]
  },
  {
   "cell_type": "code",
   "execution_count": 98,
   "id": "2d14195b4f4b9e4a",
   "metadata": {
    "ExecuteTime": {
     "end_time": "2025-02-21T21:57:10.142247Z",
     "start_time": "2025-02-21T21:57:10.138188Z"
    }
   },
   "outputs": [],
   "source": [
    "x1 = np.array([-4, 2])\n",
    "x2 = np.array([-2, 1])\n",
    "x3 = np.array([-1, -1])\n",
    "x4 = np.array([2, 2])\n",
    "x5 = np.array([1, -2])\n",
    "\n",
    "x_1 = [x1, x2, x3, x4, x5]\n",
    "\n",
    "\n",
    "y1 = 1\n",
    "y2 = 1\n",
    "y3 = -1\n",
    "y4 = -1\n",
    "y5 = -1\n",
    "\n",
    "\n",
    "y_1 = [y1, y2, y3, y4, y5]"
   ]
  },
  {
   "cell_type": "code",
   "execution_count": 104,
   "id": "649d5e983e36f77a",
   "metadata": {
    "ExecuteTime": {
     "end_time": "2025-02-21T22:03:42.698171Z",
     "start_time": "2025-02-21T22:03:42.695320Z"
    }
   },
   "outputs": [
    {
     "name": "stdout",
     "output_type": "stream",
     "text": [
      "iteration i= 0 , theta= [-4.  2.] , theta0= 1\n",
      "iteration i= 2 , theta= [-3.  3.] , theta0= 0\n",
      "iteration i= 3 , theta= [-5.  1.] , theta0= -1\n",
      "iteration i= 2 , theta= [-4.  2.] , theta0= -2\n"
     ]
    }
   ],
   "source": [
    "find_theta_thetha0(x_1, y_1, 2)"
   ]
  },
  {
   "cell_type": "code",
   "execution_count": null,
   "id": "bdeeed424dddefa1",
   "metadata": {},
   "outputs": [],
   "source": []
  }
 ],
 "metadata": {
  "kernelspec": {
   "display_name": "Python 3 (ipykernel)",
   "language": "python",
   "name": "python3"
  },
  "language_info": {
   "codemirror_mode": {
    "name": "ipython",
    "version": 3
   },
   "file_extension": ".py",
   "mimetype": "text/x-python",
   "name": "python",
   "nbconvert_exporter": "python",
   "pygments_lexer": "ipython3",
   "version": "3.13.2"
  }
 },
 "nbformat": 4,
 "nbformat_minor": 5
}
